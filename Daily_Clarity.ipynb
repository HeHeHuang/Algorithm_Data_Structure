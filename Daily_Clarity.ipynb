{
  "nbformat": 4,
  "nbformat_minor": 0,
  "metadata": {
    "colab": {
      "name": "Daily_Clarity.ipynb",
      "provenance": [],
      "collapsed_sections": [],
      "authorship_tag": "ABX9TyPr49Z+hAxPaC1x85uNMve4",
      "include_colab_link": true
    },
    "kernelspec": {
      "name": "python3",
      "display_name": "Python 3"
    },
    "language_info": {
      "name": "python"
    }
  },
  "cells": [
    {
      "cell_type": "markdown",
      "metadata": {
        "id": "view-in-github",
        "colab_type": "text"
      },
      "source": [
        "<a href=\"https://colab.research.google.com/github/HeHeHuang/Python_Alg_Stc/blob/main/Daily_Clarity.ipynb\" target=\"_parent\"><img src=\"https://colab.research.google.com/assets/colab-badge.svg\" alt=\"Open In Colab\"/></a>"
      ]
    },
    {
      "cell_type": "markdown",
      "source": [
        "### 2022-08-30"
      ],
      "metadata": {
        "id": "ynv-kPDhksLS"
      }
    },
    {
      "cell_type": "markdown",
      "source": [
        "#### figure out how to print each word newline"
      ],
      "metadata": {
        "id": "pKLygMVHlY6F"
      }
    },
    {
      "cell_type": "code",
      "source": [
        "sentence = 'I love Python'\n",
        "list_sentence = sentence.split(' ')\n",
        "for i in list_sentence:\n",
        "  print(i,end='') # default is new line '\\n'"
      ],
      "metadata": {
        "colab": {
          "base_uri": "https://localhost:8080/"
        },
        "id": "8eUtyulBlOyx",
        "outputId": "fb45b8f5-d62c-4815-e3ef-d5da3dfa5792"
      },
      "execution_count": 9,
      "outputs": [
        {
          "output_type": "stream",
          "name": "stdout",
          "text": [
            "IlovePython"
          ]
        }
      ]
    },
    {
      "cell_type": "code",
      "source": [],
      "metadata": {
        "id": "RHLtf7_glO1Q"
      },
      "execution_count": null,
      "outputs": []
    },
    {
      "cell_type": "code",
      "source": [],
      "metadata": {
        "id": "SY7w_eYalO3U"
      },
      "execution_count": null,
      "outputs": []
    }
  ]
}