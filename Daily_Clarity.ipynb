{
  "nbformat": 4,
  "nbformat_minor": 0,
  "metadata": {
    "colab": {
      "name": "Daily_Clarity.ipynb",
      "provenance": [],
      "collapsed_sections": [],
      "authorship_tag": "ABX9TyMM/DMRD1vuYWTwst1CPNQW",
      "include_colab_link": true
    },
    "kernelspec": {
      "name": "python3",
      "display_name": "Python 3"
    },
    "language_info": {
      "name": "python"
    }
  },
  "cells": [
    {
      "cell_type": "markdown",
      "metadata": {
        "id": "view-in-github",
        "colab_type": "text"
      },
      "source": [
        "<a href=\"https://colab.research.google.com/github/HeHeHuang/Python_Alg_Stc/blob/main/Daily_Clarity.ipynb\" target=\"_parent\"><img src=\"https://colab.research.google.com/assets/colab-badge.svg\" alt=\"Open In Colab\"/></a>"
      ]
    },
    {
      "cell_type": "markdown",
      "source": [
        "### 2022-08-30"
      ],
      "metadata": {
        "id": "ynv-kPDhksLS"
      }
    },
    {
      "cell_type": "markdown",
      "source": [
        "#### figure out how to print each word newline"
      ],
      "metadata": {
        "id": "pKLygMVHlY6F"
      }
    },
    {
      "cell_type": "code",
      "source": [
        "sentence = 'I love Python'\n",
        "list_sentence = sentence.split(' ')\n",
        "for i in list_sentence:\n",
        "  print(i,end='') # default is new line '\\n'"
      ],
      "metadata": {
        "colab": {
          "base_uri": "https://localhost:8080/"
        },
        "id": "8eUtyulBlOyx",
        "outputId": "fb45b8f5-d62c-4815-e3ef-d5da3dfa5792"
      },
      "execution_count": null,
      "outputs": [
        {
          "output_type": "stream",
          "name": "stdout",
          "text": [
            "IlovePython"
          ]
        }
      ]
    },
    {
      "cell_type": "code",
      "source": [
        "sentence.lower().strip()"
      ],
      "metadata": {
        "colab": {
          "base_uri": "https://localhost:8080/",
          "height": 35
        },
        "id": "RHLtf7_glO1Q",
        "outputId": "49a5d6a5-3ae4-4c99-a170-6f609404d9b0"
      },
      "execution_count": null,
      "outputs": [
        {
          "output_type": "execute_result",
          "data": {
            "text/plain": [
              "'i love python'"
            ],
            "application/vnd.google.colaboratory.intrinsic+json": {
              "type": "string"
            }
          },
          "metadata": {},
          "execution_count": 10
        }
      ]
    },
    {
      "cell_type": "markdown",
      "source": [
        "### 2022-08-31"
      ],
      "metadata": {
        "id": "qXP_3stfSjis"
      }
    },
    {
      "cell_type": "code",
      "source": [
        "import numpy as np \n",
        "np.zeros(shape=(3,2))"
      ],
      "metadata": {
        "id": "SY7w_eYalO3U",
        "colab": {
          "base_uri": "https://localhost:8080/"
        },
        "outputId": "7b2370d2-f903-4957-8ba2-c162328c91ef"
      },
      "execution_count": 4,
      "outputs": [
        {
          "output_type": "execute_result",
          "data": {
            "text/plain": [
              "array([[0., 0.],\n",
              "       [0., 0.],\n",
              "       [0., 0.]])"
            ]
          },
          "metadata": {},
          "execution_count": 4
        }
      ]
    },
    {
      "cell_type": "code",
      "source": [
        "s = [s for s in range(20)]\n",
        "s[::2]"
      ],
      "metadata": {
        "colab": {
          "base_uri": "https://localhost:8080/"
        },
        "id": "6mxrmeeCXFHA",
        "outputId": "4a89d09a-1053-4a67-9663-65cd9c4a5df0"
      },
      "execution_count": 9,
      "outputs": [
        {
          "output_type": "execute_result",
          "data": {
            "text/plain": [
              "[0, 2, 4, 6, 8, 10, 12, 14, 16, 18]"
            ]
          },
          "metadata": {},
          "execution_count": 9
        }
      ]
    },
    {
      "cell_type": "code",
      "source": [
        "s[::3]"
      ],
      "metadata": {
        "colab": {
          "base_uri": "https://localhost:8080/"
        },
        "id": "pFALz_S_Xn0V",
        "outputId": "4ac05e66-f4f3-4b81-a1cc-c478ffcf4bb9"
      },
      "execution_count": 10,
      "outputs": [
        {
          "output_type": "execute_result",
          "data": {
            "text/plain": [
              "[0, 3, 6, 9, 12, 15, 18]"
            ]
          },
          "metadata": {},
          "execution_count": 10
        }
      ]
    },
    {
      "cell_type": "code",
      "source": [
        "p= np.zeros(shape=(3,8))\n",
        "p"
      ],
      "metadata": {
        "colab": {
          "base_uri": "https://localhost:8080/"
        },
        "id": "rn0QRcJycQ0B",
        "outputId": "114bd0bb-e2a3-4f4b-fbc1-c2bcb5d517e3"
      },
      "execution_count": 12,
      "outputs": [
        {
          "output_type": "execute_result",
          "data": {
            "text/plain": [
              "array([[0., 0., 0., 0., 0., 0., 0., 0.],\n",
              "       [0., 0., 0., 0., 0., 0., 0., 0.],\n",
              "       [0., 0., 0., 0., 0., 0., 0., 0.]])"
            ]
          },
          "metadata": {},
          "execution_count": 12
        }
      ]
    },
    {
      "cell_type": "code",
      "source": [
        "p[:,::2] =  np.arange(0,8,2)"
      ],
      "metadata": {
        "id": "gCWUC1jVceAt"
      },
      "execution_count": 19,
      "outputs": []
    },
    {
      "cell_type": "code",
      "source": [
        "p"
      ],
      "metadata": {
        "colab": {
          "base_uri": "https://localhost:8080/"
        },
        "id": "0I2QT6mdcxwV",
        "outputId": "75e85279-2626-43f8-ebd9-a227fed280a3"
      },
      "execution_count": 20,
      "outputs": [
        {
          "output_type": "execute_result",
          "data": {
            "text/plain": [
              "array([[0., 0., 2., 0., 4., 0., 6., 0.],\n",
              "       [0., 0., 2., 0., 4., 0., 6., 0.],\n",
              "       [0., 0., 2., 0., 4., 0., 6., 0.]])"
            ]
          },
          "metadata": {},
          "execution_count": 20
        }
      ]
    },
    {
      "cell_type": "markdown",
      "source": [
        "##### word embedding in tensorflow\n"
      ],
      "metadata": {
        "id": "ahmy3qItqC9m"
      }
    },
    {
      "cell_type": "code",
      "source": [
        "docs = ['Well done!',\n",
        "\t\t'Good work',\n",
        "\t\t'good work',\n",
        "\t\t'nice work',\n",
        "\t\t'Excellent!',\n",
        "\t\t'Weak',\n",
        "\t\t'Poor effort!',\n",
        "\t\t'not good',\n",
        "\t\t'poor work',\n",
        "\t\t'Could have done better.']\n",
        "# define class labels\n",
        "labels = np.array([1,1,1,1,1,0,0,0,0,0])"
      ],
      "metadata": {
        "id": "9G68i8uLeBDB"
      },
      "execution_count": 25,
      "outputs": []
    },
    {
      "cell_type": "markdown",
      "source": [
        "#### one hot encoding \n",
        "> one_hot() arrange the word index "
      ],
      "metadata": {
        "id": "QIK-DWlcrFL4"
      }
    },
    {
      "cell_type": "code",
      "source": [
        "from keras.preprocessing.text import one_hot\n",
        "vocab_size = 50\n",
        "encoded_docs = [one_hot(d, vocab_size) for d in docs]\n",
        "print(encoded_docs)"
      ],
      "metadata": {
        "colab": {
          "base_uri": "https://localhost:8080/"
        },
        "id": "MQ6cSCo0qWOi",
        "outputId": "97bf6211-fc8c-4639-8788-7b5290869392"
      },
      "execution_count": 26,
      "outputs": [
        {
          "output_type": "stream",
          "name": "stdout",
          "text": [
            "[[2, 21], [30, 31], [30, 31], [49, 31], [8], [24], [31, 29], [13, 30], [31, 31], [46, 38, 21, 4]]\n"
          ]
        }
      ]
    },
    {
      "cell_type": "code",
      "source": [
        "import numpy as np\n",
        "import matplotlib.pyplot as plt\n",
        " \n",
        "def getPositionEncoding(seq_len, d, n=10000):\n",
        "    P = np.zeros((seq_len, d))\n",
        "    for k in range(seq_len):\n",
        "        for i in np.arange(int(d/2)):\n",
        "            denominator = np.power(n, 2*i/d)\n",
        "            P[k, 2*i] = np.sin(k/denominator)\n",
        "            P[k, 2*i+1] = np.cos(k/denominator)\n",
        "    return P\n",
        " \n",
        "P = getPositionEncoding(seq_len=4, d=4, n=100)\n",
        "print(P)"
      ],
      "metadata": {
        "colab": {
          "base_uri": "https://localhost:8080/"
        },
        "id": "ZbZBRUBgxKfg",
        "outputId": "f1316f1d-7430-4b4e-efd6-5dec77bdd8b6"
      },
      "execution_count": 27,
      "outputs": [
        {
          "output_type": "stream",
          "name": "stdout",
          "text": [
            "[[ 0.          1.          0.          1.        ]\n",
            " [ 0.84147098  0.54030231  0.09983342  0.99500417]\n",
            " [ 0.90929743 -0.41614684  0.19866933  0.98006658]\n",
            " [ 0.14112001 -0.9899925   0.29552021  0.95533649]]\n"
          ]
        }
      ]
    }
  ]
}