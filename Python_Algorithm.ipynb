{
  "nbformat": 4,
  "nbformat_minor": 0,
  "metadata": {
    "colab": {
      "name": "Python_Algorithm.ipynb",
      "provenance": [],
      "collapsed_sections": [],
      "authorship_tag": "ABX9TyNOK3m2RHaTWKLRHDCAapj/",
      "include_colab_link": true
    },
    "kernelspec": {
      "name": "python3",
      "display_name": "Python 3"
    },
    "language_info": {
      "name": "python"
    }
  },
  "cells": [
    {
      "cell_type": "markdown",
      "metadata": {
        "id": "view-in-github",
        "colab_type": "text"
      },
      "source": [
        "<a href=\"https://colab.research.google.com/github/HeHeHuang/Python_Alg_Stc/blob/main/Python_Algorithm.ipynb\" target=\"_parent\"><img src=\"https://colab.research.google.com/assets/colab-badge.svg\" alt=\"Open In Colab\"/></a>"
      ]
    },
    {
      "cell_type": "markdown",
      "source": [
        "## list\n",
        "\n"
      ],
      "metadata": {
        "id": "LrGa19PSAr9n"
      }
    },
    {
      "cell_type": "code",
      "execution_count": null,
      "metadata": {
        "id": "c8qstEe4AROq",
        "colab": {
          "base_uri": "https://localhost:8080/"
        },
        "outputId": "6496bc1e-ab3c-4fd0-8ca9-20156ce98dc3"
      },
      "outputs": [
        {
          "output_type": "execute_result",
          "data": {
            "text/plain": [
              "[1, 2, 3, 4, 5]"
            ]
          },
          "metadata": {},
          "execution_count": 1
        }
      ],
      "source": [
        "[1,2,3,4,5]"
      ]
    },
    {
      "cell_type": "markdown",
      "source": [
        "#### 列表解析式"
      ],
      "metadata": {
        "id": "iEZ7FnEXBivW"
      }
    },
    {
      "cell_type": "code",
      "source": [
        "list = [x for x in range(7)]\n",
        "list "
      ],
      "metadata": {
        "colab": {
          "base_uri": "https://localhost:8080/"
        },
        "id": "skUQ8Da1Bssr",
        "outputId": "c2feb86a-eb35-4633-d8b6-b60de443d04c"
      },
      "execution_count": null,
      "outputs": [
        {
          "output_type": "execute_result",
          "data": {
            "text/plain": [
              "[0, 1, 2, 3, 4, 5, 6]"
            ]
          },
          "metadata": {},
          "execution_count": 3
        }
      ]
    },
    {
      "cell_type": "markdown",
      "source": [
        "## tuple"
      ],
      "metadata": {
        "id": "uwVF8MPeArWy"
      }
    },
    {
      "cell_type": "markdown",
      "source": [
        "## dict\n",
        "\n"
      ],
      "metadata": {
        "id": "Qwa-MH8CA4ME"
      }
    },
    {
      "cell_type": "markdown",
      "source": [
        "## set"
      ],
      "metadata": {
        "id": "sUv6rb50A6b5"
      }
    },
    {
      "cell_type": "markdown",
      "source": [
        "## pointer"
      ],
      "metadata": {
        "id": "p9WLTozcf2A7"
      }
    },
    {
      "cell_type": "markdown",
      "source": [
        "## linked list\n",
        "> list have index, list have contious memory space\n",
        "> linked list dont have index, LL node is serpate in different memory space, have head and tail \n"
      ],
      "metadata": {
        "id": "K0wfyvIHdHP8"
      }
    },
    {
      "cell_type": "code",
      "source": [
        "class LinkedList:\n",
        "  def __init__(self,value):\n",
        "    #create new nod\n",
        "    new_node = Node(value)\n",
        "    self.head = new_node\n",
        "    self.tail = new_node\n",
        "    self.length =1 \n",
        "    # loop the item by while loop \n",
        "  def print_list(self):\n",
        "    temp = self.head\n",
        "    while temp is not None:\n",
        "      print(temp.value)\n",
        "      temp =temp.next \n",
        "  #1. add last item \n",
        "  #2. tail point to new node\n",
        "  def append(self,value):\n",
        "    #create new node\n",
        "    #add Node to end\n",
        "    new_node = Node(value)\n",
        "    #if the LL item is empty\n",
        "    if self.head is None:\n",
        "      self.head = new_node\n",
        "      self.tail = new_node\n",
        "    else:\n",
        "       self.tail.next = new_node\n",
        "       self.tail = new_node \n",
        "    self.length +=1 \n",
        "    return True \n",
        "  # set the tail to last two item, remove last item\n",
        "  # to find out the last two node, the point need to loop node to find out\n",
        "  # how we do? you new temp and pre value, use while statement to che LL.node.next is Nono,if None,\n",
        "  # give the last item to pre value, and set the tail as pre value and set the pre node.next = none\n",
        "  # save the last node in temp and return the temp node as pop result \n",
        "  def pop(self): \n",
        "    # LL with None\n",
        "    if self.length == 0:\n",
        "      return None\n",
        "    # LL with one node\n",
        "    # LL with multiple node\n",
        "    temp = self.head\n",
        "    pre = self.head\n",
        "    while temp.next is not None: #While(temp.next)\n",
        "      pre = temp\n",
        "      temp = temp.next\n",
        "    self.tail = pre\n",
        "    self.tail.next = None\n",
        "    self.length -=1\n",
        "    if self.length ==0:\n",
        "      self.head = None\n",
        "      self.tail = None\n",
        "    return temp\n",
        "      \n",
        "    #create new node\n",
        "    #add node to begining\n",
        "  def prepend(self,value):\n",
        "    #1. create new node\n",
        "    #2. add the next to the first node of LL \n",
        "    #3. head point to the new node\n",
        "    #4. if we have empty list \n",
        "    new_node = Node(value)\n",
        "    if self.length == 0:\n",
        "      self.head = new_node\n",
        "      self.tail = new_node\n",
        "    else:\n",
        "      new_node.next = self.head\n",
        "      self.head = new_node\n",
        "    self.length +=1\n",
        "    return True\n",
        "  \n",
        "  def pop_first(self):\n",
        "    if self.length == 0:\n",
        "      return None\n",
        "    temp = self.head\n",
        "    self.head = self.head.next\n",
        "    temp.next = None\n",
        "    self.length -=1 \n",
        "    if self.length == 0:\n",
        "      self.tail = None\n",
        "    return temp\n",
        "\n",
        "  def get(self,index):\n",
        "   # check the have vaild index\n",
        "    if index < 0 or index >= self.length:\n",
        "      return None\n",
        "    temp = self.head\n",
        "    for _ in range(index):\n",
        "      temp = temp.next\n",
        "    return temp\n",
        "\n",
        "  def set_value(self,index,value):\n",
        "    if index <0 or index >= self.length:\n",
        "      return None\n",
        "    temp = self.get(index)\n",
        "    if temp: # if temp is not None \n",
        "      temp.value =value\n",
        "      return True\n",
        "    return False\n",
        "    '''temp = self.head\n",
        "    for _ in range(index):\n",
        "      temp = temp.next\n",
        "    temp.value = value'''\n",
        "    return temp\n",
        "  def insert(self,index,value):\n",
        "    #create new node\n",
        "    #insert node\n",
        "    if index <0 or index >= self.length:\n",
        "      return None\n",
        "    if index == 0:\n",
        "      return self.prepend(value)\n",
        "    if index == self.length:\n",
        "      return self.append(value)\n",
        "    new_node = Node(value)\n",
        "    temp = self.get(index-1)\n",
        "    new_node.next = temp.next\n",
        "    temp.next = new_node\n",
        "    self.length += 1\n",
        "    return True\n",
        "  def remove(self,index):\n",
        "    if index <0 or index >= self.length:\n",
        "      return None\n",
        "    if index ==0:\n",
        "      return self.pop_first()\n",
        "    if index == self.length:\n",
        "      return self.pop()\n",
        "  ### more efficient\n",
        "    prev = self.get(index-1)\n",
        "    temp = prev.next\n",
        "\n",
        "    prev.next = temp.next \n",
        "    temp.next = None\n",
        "    self.length -=1\n",
        "    return temp\n",
        "  \n",
        "  def reverse(self):\n",
        "     # switch the head and tail, and change the point from end to begining\n",
        "     temp = self.head\n",
        "     self.head= self.tail\n",
        "     self.tail = temp\n",
        "     after = temp.next\n",
        "     before = None\n",
        "     # \n",
        "     for _ in range(self.length):\n",
        "       # after point to temp.next value \n",
        "       after = temp.next\n",
        "       # change the point from after to before\n",
        "       temp.next = before\n",
        "      # before point to temp \n",
        "       before = temp\n",
        "       #temp point to after \n",
        "       temp = after\n",
        "       # at the last step before, temp, after will be None\n",
        "       \n",
        "\n",
        "       \n"
      ],
      "metadata": {
        "id": "7jrcR289fusO"
      },
      "execution_count": 81,
      "outputs": []
    },
    {
      "cell_type": "code",
      "source": [
        "class Node:\n",
        "  #create new node\n",
        "  def __init__(self,value):\n",
        "     self.value = value \n",
        "     self.next = None\n",
        "      "
      ],
      "metadata": {
        "id": "ejgwirD0gqH9"
      },
      "execution_count": 87,
      "outputs": []
    },
    {
      "cell_type": "code",
      "source": [
        "myLL = LinkedList(4)\n",
        "myLL\n",
        "myLL.append(5)\n",
        "myLL.append(6)"
      ],
      "metadata": {
        "colab": {
          "base_uri": "https://localhost:8080/"
        },
        "id": "XBcT5Lu9h2MC",
        "outputId": "ab9dd74c-749c-4389-c754-1c7bdadc1d56"
      },
      "execution_count": 82,
      "outputs": [
        {
          "output_type": "execute_result",
          "data": {
            "text/plain": [
              "True"
            ]
          },
          "metadata": {},
          "execution_count": 82
        }
      ]
    },
    {
      "cell_type": "code",
      "source": [
        "myLL.reverse()\n",
        "myLL.print_list()"
      ],
      "metadata": {
        "colab": {
          "base_uri": "https://localhost:8080/"
        },
        "id": "2R1gaiaDLBaU",
        "outputId": "eaece83c-9bb6-4fdf-ba95-f27227d8ac9c"
      },
      "execution_count": 85,
      "outputs": [
        {
          "output_type": "stream",
          "name": "stdout",
          "text": [
            "6\n",
            "5\n",
            "4\n"
          ]
        }
      ]
    },
    {
      "cell_type": "code",
      "source": [
        "myLL.get(2).value"
      ],
      "metadata": {
        "colab": {
          "base_uri": "https://localhost:8080/"
        },
        "id": "TcqgD_hj5E5S",
        "outputId": "d2bec0ab-4895-4c74-82b1-523f6d168716"
      },
      "execution_count": 79,
      "outputs": [
        {
          "output_type": "execute_result",
          "data": {
            "text/plain": [
              "6"
            ]
          },
          "metadata": {},
          "execution_count": 79
        }
      ]
    },
    {
      "cell_type": "code",
      "source": [
        "myLL.length"
      ],
      "metadata": {
        "colab": {
          "base_uri": "https://localhost:8080/"
        },
        "id": "ehqSX9i0vISo",
        "outputId": "33849bd4-6313-4018-ee52-5285b5c679e4"
      },
      "execution_count": 60,
      "outputs": [
        {
          "output_type": "execute_result",
          "data": {
            "text/plain": [
              "3"
            ]
          },
          "metadata": {},
          "execution_count": 60
        }
      ]
    },
    {
      "cell_type": "code",
      "source": [
        "print(myLL.head.value)"
      ],
      "metadata": {
        "id": "8CpPAl_giExZ",
        "outputId": "b504063d-2b93-4b17-e884-f566cf64a6be",
        "colab": {
          "base_uri": "https://localhost:8080/"
        }
      },
      "execution_count": 61,
      "outputs": [
        {
          "output_type": "stream",
          "name": "stdout",
          "text": [
            "4\n"
          ]
        }
      ]
    },
    {
      "cell_type": "code",
      "source": [
        "myLL.append(5)"
      ],
      "metadata": {
        "colab": {
          "base_uri": "https://localhost:8080/"
        },
        "id": "8b6ifgR1m35j",
        "outputId": "bf29bc4f-bf3a-4848-cbf7-c6b5ab511bc4"
      },
      "execution_count": 63,
      "outputs": [
        {
          "output_type": "execute_result",
          "data": {
            "text/plain": [
              "True"
            ]
          },
          "metadata": {},
          "execution_count": 63
        }
      ]
    },
    {
      "cell_type": "code",
      "source": [
        "myLL.print_list()"
      ],
      "metadata": {
        "id": "2fCYTCGMiHdS",
        "colab": {
          "base_uri": "https://localhost:8080/"
        },
        "outputId": "c7719909-8bf2-4e32-c20e-d0be85229b31"
      },
      "execution_count": 73,
      "outputs": [
        {
          "output_type": "stream",
          "name": "stdout",
          "text": [
            "4\n",
            "5\n",
            "6\n"
          ]
        }
      ]
    },
    {
      "cell_type": "code",
      "source": [
        "myLL.pop()"
      ],
      "metadata": {
        "colab": {
          "base_uri": "https://localhost:8080/"
        },
        "id": "J4w4wT9xs2nB",
        "outputId": "4fd3d171-69e4-494d-a6c5-ac2e14faa0e1"
      },
      "execution_count": 65,
      "outputs": [
        {
          "output_type": "execute_result",
          "data": {
            "text/plain": [
              "<__main__.Node at 0x7f7051455e10>"
            ]
          },
          "metadata": {},
          "execution_count": 65
        }
      ]
    },
    {
      "cell_type": "code",
      "source": [
        "myLL.prepend(3)"
      ],
      "metadata": {
        "colab": {
          "base_uri": "https://localhost:8080/"
        },
        "id": "ZuJgfGqpzwG4",
        "outputId": "8c599cc6-09cd-4cfa-9b77-73420a5979bd"
      },
      "execution_count": 66,
      "outputs": [
        {
          "output_type": "execute_result",
          "data": {
            "text/plain": [
              "True"
            ]
          },
          "metadata": {},
          "execution_count": 66
        }
      ]
    },
    {
      "cell_type": "code",
      "source": [
        "myLL.pop_first().value"
      ],
      "metadata": {
        "colab": {
          "base_uri": "https://localhost:8080/"
        },
        "id": "_0vw8gnl3oBJ",
        "outputId": "c6c00f4f-230c-4dd0-f417-a225fa99ffef"
      },
      "execution_count": 75,
      "outputs": [
        {
          "output_type": "execute_result",
          "data": {
            "text/plain": [
              "5"
            ]
          },
          "metadata": {},
          "execution_count": 75
        }
      ]
    },
    {
      "cell_type": "markdown",
      "source": [
        "## Double linked list\n"
      ],
      "metadata": {
        "id": "ikVGrEfxeJAa"
      }
    },
    {
      "cell_type": "code",
      "source": [
        "# check the inherited from the Node \n",
        "class dNode(Node):\n",
        "  def __init__(self,value):\n",
        "    Node.__init__(self,value)\n",
        "    self.prev = None"
      ],
      "metadata": {
        "id": "TJi58tQxLfai"
      },
      "execution_count": 88,
      "outputs": []
    },
    {
      "cell_type": "code",
      "source": [
        "class Node:\n",
        "  def __init__(self, value):\n",
        "    self.value = value\n",
        "    self.next = None\n",
        "    self.prev = None\n",
        "'''\n",
        "{\"value\":7,\n",
        "\"next\":None,\n",
        "\"prev\":None}\n",
        "'''\n"
      ],
      "metadata": {
        "colab": {
          "base_uri": "https://localhost:8080/",
          "height": 35
        },
        "id": "8tSwRA2YMfNr",
        "outputId": "e35f3fed-1dc0-4afd-bdb6-b106c7bf9b1a"
      },
      "execution_count": 1,
      "outputs": [
        {
          "output_type": "execute_result",
          "data": {
            "text/plain": [
              "'\\n{\"value\":7,\\n\"next\":None,\\n\"prev\":None}\\n'"
            ],
            "application/vnd.google.colaboratory.intrinsic+json": {
              "type": "string"
            }
          },
          "metadata": {},
          "execution_count": 1
        }
      ]
    },
    {
      "cell_type": "code",
      "source": [
        "class DoublyLinkedList:\n",
        "  def __init__(self,value):\n",
        "    new_node = Node(value)\n",
        "    self.head = new_node\n",
        "    self.tail = new_node\n",
        "    self.length = 1 \n",
        "  def print_list(self):\n",
        "    temp = self.head\n",
        "    while temp is not None:\n",
        "      print(temp.value)\n",
        "      temp = temp.next \n",
        "  def append(self,value):\n",
        "    new_node = Node(value)\n",
        "    if self.head is None:\n",
        "      self.head = new_node\n",
        "      self.tail = new_node\n",
        "    else:\n",
        "      self.tail.next = new_node\n",
        "      new_node.prev = self.tail\n",
        "      self.tail = new_node \n",
        "      '''\n",
        "      temp = self.tail\n",
        "      temp.next = new_node\n",
        "      temp = new_node.prev\n",
        "      new_node = self.tail\n",
        "      '''\n",
        "      self.length +=1\n",
        "      return True \n",
        "\n",
        "#different betweent the linked list, when pop(), need to iteration every node \n",
        "# from begining. but the DLL it have two direction. \n",
        "  def pop(self):\n",
        "      # improved version\n",
        "    if self.length == 0:\n",
        "      return None\n",
        "    temp = self.tail\n",
        "    if self.length == 1:\n",
        "      self.head = None\n",
        "      self.tail = None\n",
        "    else:\n",
        "      self.tail = self.tail.prev\n",
        "      self.tail.next = None\n",
        "      temp.prev = None\n",
        "    self.length -=1\n",
        "    return temp\n",
        "\n",
        "  def prepend(self,value):\n",
        "    new_node = Node(value)\n",
        "    if self.length == 0:\n",
        "      self.head = new_node\n",
        "      self.tail = new_node\n",
        "    else:\n",
        "      self.head.prev = new_node\n",
        "      new_node.next = self.head\n",
        "      self.head = new_node\n",
        "    self.length +=1\n",
        "    return True\n",
        "\n",
        "  def pop_first(self):\n",
        "    if self.length == 0:\n",
        "      return None\n",
        "    temp = self.head\n",
        "    if self.length ==1:\n",
        "      self.head = None\n",
        "      self.tail = None\n",
        "    else: \n",
        "      self.head = self.head.next\n",
        "      temp.next = None\n",
        "      self.head.prev = None\n",
        "    self.length -= 1 \n",
        "    return temp\n",
        "  def get(self,index):\n",
        "  # different betweent tht single linked list:\n",
        "  # in LL, need to check the indext is not out of range \n",
        "  # and then use the for loop for the index pass in: temp = temp.next\n",
        "  # return the node when the inde are \n",
        "  # in DLL, there are two direction, the node is more closer to tail\n",
        "    if index < 0 or index >=self.length:\n",
        "      return None\n",
        "    temp = self.head\n",
        "    if index < self.length/2:\n",
        "      for _ in range(index):\n",
        "        temp = temp.next\n",
        "    else: \n",
        "      temp = self.tail\n",
        "      for _ in range(self.length-1,index, -1):\n",
        "        temp = temp.prev\n",
        "    return temp\n",
        "  \n",
        "  def set_value(self,index,value):\n",
        "    temp = self.get(index)\n",
        "    if temp: # because the node return may be None which index is out of range\n",
        "      temp.value = value\n",
        "      return True\n",
        "    return False\n",
        "  \n",
        "  def insert(self,index,value):\n",
        "    if index <0 or index >= self.length:\n",
        "      return False\n",
        "    if index==0:\n",
        "      return self.prepend(value)\n",
        "    if index == self.length -1:\n",
        "      return self.append(value)\n",
        "    new_node = Node(value)\n",
        "    before = self.get(index-1)\n",
        "    after = before.next\n",
        "    new_node.prev = before\n",
        "    new_node.next = after\n",
        "    before.next = new_node\n",
        "    after.prev = new_node\n",
        "    self.length +=1\n",
        "    return True\n",
        "    \n",
        "  def remove(self,index ):\n",
        "    if index<0 or index >=self.length:\n",
        "      return None\n",
        "    if index ==0:\n",
        "      return self.pop_first()\n",
        "    if index == self.lenght -1:\n",
        "      return self.pop\n",
        "    temp = self.get(index)\n",
        "    temp.next.prev = temp.prev\n",
        "    temp.prev.next = temp.next\n",
        "    temp.next = None\n",
        "    temp.prev = None\n",
        "    self.length -= 1\n",
        "    return temp\n",
        "\n"
      ],
      "metadata": {
        "id": "5el4uqhoL9eC"
      },
      "execution_count": 55,
      "outputs": []
    },
    {
      "cell_type": "code",
      "source": [
        ""
      ],
      "metadata": {
        "id": "614txWKvDCYo"
      },
      "execution_count": null,
      "outputs": []
    },
    {
      "cell_type": "markdown",
      "source": [
        "original pop methond for DLL\n",
        "```\n",
        " \n",
        "      if self.length == 0:\n",
        "        return None\n",
        "      # point the tail to the last two node\n",
        "      #and break the connection between last two nod and last node\n",
        "      temp = self.tail\n",
        "      self.tail = self.tail.prev\n",
        "      self.tail.next = None\n",
        "      temp.prev = None\n",
        "      self.length -= 1\n",
        "      # when no node in dLL \n",
        "      if self.length == 0:\n",
        "        self.head = None\n",
        "        self.tail = None\n",
        "      return temp\n",
        "  \n",
        "```"
      ],
      "metadata": {
        "id": "kW4wUwv3_4yP"
      }
    },
    {
      "cell_type": "code",
      "source": [
        "my_dll = DoublyLinkedList(7)\n",
        "my_dll"
      ],
      "metadata": {
        "colab": {
          "base_uri": "https://localhost:8080/"
        },
        "id": "8omSHsMq2c5E",
        "outputId": "db4a5d3d-8ad8-448a-aab4-ab71452bcbbc"
      },
      "execution_count": 56,
      "outputs": [
        {
          "output_type": "execute_result",
          "data": {
            "text/plain": [
              "<__main__.DoublyLinkedList at 0x7f309ca7da10>"
            ]
          },
          "metadata": {},
          "execution_count": 56
        }
      ]
    },
    {
      "cell_type": "code",
      "source": [
        "my_dll.head.value"
      ],
      "metadata": {
        "colab": {
          "base_uri": "https://localhost:8080/"
        },
        "id": "eN2wC2r22k0L",
        "outputId": "385e5629-b2d2-45c7-f2bc-47e221887838"
      },
      "execution_count": 49,
      "outputs": [
        {
          "output_type": "execute_result",
          "data": {
            "text/plain": [
              "7"
            ]
          },
          "metadata": {},
          "execution_count": 49
        }
      ]
    },
    {
      "cell_type": "code",
      "source": [
        "my_dll.append(2)"
      ],
      "metadata": {
        "colab": {
          "base_uri": "https://localhost:8080/"
        },
        "id": "3bY1kxTX21Ff",
        "outputId": "ea257dc6-e380-40de-80ba-3b8252b546e4"
      },
      "execution_count": 57,
      "outputs": [
        {
          "output_type": "execute_result",
          "data": {
            "text/plain": [
              "True"
            ]
          },
          "metadata": {},
          "execution_count": 57
        }
      ]
    },
    {
      "cell_type": "code",
      "source": [
        "my_dll.pop().value"
      ],
      "metadata": {
        "colab": {
          "base_uri": "https://localhost:8080/",
          "height": 169
        },
        "id": "9TSHY3XX3Eaa",
        "outputId": "203bb6ab-a414-43d6-a1ef-f18220d3778a"
      },
      "execution_count": 44,
      "outputs": [
        {
          "output_type": "error",
          "ename": "AttributeError",
          "evalue": "ignored",
          "traceback": [
            "\u001b[0;31m---------------------------------------------------------------------------\u001b[0m",
            "\u001b[0;31mAttributeError\u001b[0m                            Traceback (most recent call last)",
            "\u001b[0;32m<ipython-input-44-75628fbc7e97>\u001b[0m in \u001b[0;36m<module>\u001b[0;34m()\u001b[0m\n\u001b[0;32m----> 1\u001b[0;31m \u001b[0mmy_dll\u001b[0m\u001b[0;34m.\u001b[0m\u001b[0mpop\u001b[0m\u001b[0;34m(\u001b[0m\u001b[0;34m)\u001b[0m\u001b[0;34m.\u001b[0m\u001b[0mvalue\u001b[0m\u001b[0;34m\u001b[0m\u001b[0;34m\u001b[0m\u001b[0m\n\u001b[0m",
            "\u001b[0;31mAttributeError\u001b[0m: 'NoneType' object has no attribute 'value'"
          ]
        }
      ]
    },
    {
      "cell_type": "code",
      "source": [
        "my_dll.prepend(6)"
      ],
      "metadata": {
        "colab": {
          "base_uri": "https://localhost:8080/"
        },
        "id": "15w5J8z23Nme",
        "outputId": "9938890f-881d-4733-a2ea-a2c4d911c334"
      },
      "execution_count": 59,
      "outputs": [
        {
          "output_type": "execute_result",
          "data": {
            "text/plain": [
              "True"
            ]
          },
          "metadata": {},
          "execution_count": 59
        }
      ]
    },
    {
      "cell_type": "code",
      "source": [
        "my_dll.print_list()"
      ],
      "metadata": {
        "colab": {
          "base_uri": "https://localhost:8080/"
        },
        "id": "Un_z1NKcBrF-",
        "outputId": "1cce898c-201a-49fc-8cd7-0aa50b8474c4"
      },
      "execution_count": 60,
      "outputs": [
        {
          "output_type": "stream",
          "name": "stdout",
          "text": [
            "6\n",
            "6\n",
            "7\n",
            "2\n"
          ]
        }
      ]
    },
    {
      "cell_type": "code",
      "source": [
        "my_dll.pop_first().value"
      ],
      "metadata": {
        "colab": {
          "base_uri": "https://localhost:8080/"
        },
        "id": "04-pzG1GBuCP",
        "outputId": "f8bbc18b-ecca-4cf3-8a84-3a9bae25cdcd"
      },
      "execution_count": 63,
      "outputs": [
        {
          "output_type": "execute_result",
          "data": {
            "text/plain": [
              "7"
            ]
          },
          "metadata": {},
          "execution_count": 63
        }
      ]
    },
    {
      "cell_type": "code",
      "source": [
        ""
      ],
      "metadata": {
        "id": "xCkrfW6ZD1Iw"
      },
      "execution_count": 62,
      "outputs": []
    },
    {
      "cell_type": "code",
      "source": [
        ""
      ],
      "metadata": {
        "id": "hAFo33UwD2WY"
      },
      "execution_count": null,
      "outputs": []
    },
    {
      "cell_type": "code",
      "source": [
        ""
      ],
      "metadata": {
        "id": "QmQcoVuEDz7D"
      },
      "execution_count": null,
      "outputs": []
    },
    {
      "cell_type": "markdown",
      "source": [
        "## Stack\n",
        "> you only can get the item you last push in the stack --LIFO\n",
        "> how use linked list to stack  \n",
        "> top & bottom \n",
        "> pop first in LL \n"
      ],
      "metadata": {
        "id": "cO5RSn2lePKp"
      }
    },
    {
      "cell_type": "code",
      "source": [
        "class Node:\n",
        "  def __init__(self,value):\n",
        "    self.value = value\n",
        "    self.next = None\n",
        "\n",
        "class Stack:\n",
        "  def __init__(self,value):\n",
        "    new_node = Node(value)\n",
        "    self.top = new_node\n",
        "    #it is can be removed that we didn't do anything \n",
        "    #from buttom \n",
        "    #self.bottom  = new_node \n",
        "    self.height = 1\n",
        "  \n",
        "  def print_stack(self):\n",
        "    temp = self.top\n",
        "    while temp is not None:\n",
        "      print(temp.value)\n",
        "      temp = temp.next\n",
        "  \n",
        "  def push(self,value):\n",
        "    new_node = Node(value)\n",
        "    if self.height == 0:\n",
        "      self.top = new_node\n",
        "    else:\n",
        "      new_node.next = self.top\n",
        "      self.top = new_node\n",
        "    self.height +=1\n",
        "  \n",
        "  def pop(self):\n",
        "    if self.height == 0:\n",
        "      return None\n",
        "    temp = self.top\n",
        "    self.top = self.top.next\n",
        "    temp.next = None\n",
        "    self.height -=1 \n",
        "    return temp \n",
        "     \n",
        "\n",
        "    \n"
      ],
      "metadata": {
        "id": "e54gOIRHMCLP"
      },
      "execution_count": 89,
      "outputs": []
    },
    {
      "cell_type": "code",
      "source": [
        "my_stack = Stack(4)"
      ],
      "metadata": {
        "id": "nPRbAtqaOhXu"
      },
      "execution_count": 90,
      "outputs": []
    },
    {
      "cell_type": "code",
      "source": [
        "my_stack.print_stack()"
      ],
      "metadata": {
        "colab": {
          "base_uri": "https://localhost:8080/"
        },
        "id": "s8iN8rP8O_tq",
        "outputId": "e54227e6-5c51-4b35-c77c-7181fd79bc25"
      },
      "execution_count": 86,
      "outputs": [
        {
          "output_type": "stream",
          "name": "stdout",
          "text": [
            "4\n"
          ]
        }
      ]
    },
    {
      "cell_type": "code",
      "source": [
        "my_stack.push(5)"
      ],
      "metadata": {
        "id": "aYAIT2LKOjyf"
      },
      "execution_count": 91,
      "outputs": []
    },
    {
      "cell_type": "code",
      "source": [
        "my_stack.print_stack()"
      ],
      "metadata": {
        "colab": {
          "base_uri": "https://localhost:8080/"
        },
        "id": "wfIOqLvUOmAs",
        "outputId": "0915be16-2b4a-4c0b-8b10-3e12cac5bfb9"
      },
      "execution_count": 88,
      "outputs": [
        {
          "output_type": "stream",
          "name": "stdout",
          "text": [
            "5\n",
            "4\n"
          ]
        }
      ]
    },
    {
      "cell_type": "code",
      "source": [
        "my_stack.height"
      ],
      "metadata": {
        "colab": {
          "base_uri": "https://localhost:8080/"
        },
        "id": "VGgj_QsnPG5F",
        "outputId": "d7e58451-f046-4478-eaee-c7bd9fc93375"
      },
      "execution_count": 83,
      "outputs": [
        {
          "output_type": "execute_result",
          "data": {
            "text/plain": [
              "2"
            ]
          },
          "metadata": {},
          "execution_count": 83
        }
      ]
    },
    {
      "cell_type": "code",
      "source": [
        "my_stack.pop().value"
      ],
      "metadata": {
        "colab": {
          "base_uri": "https://localhost:8080/"
        },
        "id": "_yFZad1eQO1S",
        "outputId": "a89a40bd-2725-4c65-ae40-ad1d63d9e478"
      },
      "execution_count": 93,
      "outputs": [
        {
          "output_type": "execute_result",
          "data": {
            "text/plain": [
              "4"
            ]
          },
          "metadata": {},
          "execution_count": 93
        }
      ]
    },
    {
      "cell_type": "markdown",
      "source": [
        "## Queues\n",
        "> get in line: FiFO\n",
        "> add in one end and you remove on other end: enqueue in Last, dequeue in first  \n",
        "> in LL, removing is O(n) \n"
      ],
      "metadata": {
        "id": "zTQ9kvtyeeXL"
      }
    },
    {
      "cell_type": "code",
      "source": [
        "class Node:\n",
        "  def __init__(self,value):\n",
        "    self.value = value\n",
        "    self.next = None\n",
        "\n",
        "class Queue:\n",
        "  def __init__(self,value):\n",
        "    new_node = Node(value)\n",
        "    self.first = new_node\n",
        "    self.last = new_node\n",
        "    self.length\n",
        "\n",
        "  def print_queue(self):\n",
        "    temp = self.first\n",
        "    while temp is not None:\n",
        "      print(temp.value)\n",
        "      temp = temp.next \n",
        "  def enquenue(self,value):\n",
        "    new_node = Node(value)\n",
        "    if self.first is None:\n",
        "      self.first = new_node\n",
        "      self.last = new_node\n",
        "    else:\n",
        "      self.last.next = new_node\n",
        "      self.last = new_node\n",
        "    self.length +=1\n",
        "\n",
        "  def dequeue(self,value):\n",
        "    if self.length == 0:\n",
        "      return None\n",
        "    temp = self.first\n",
        "    if self.length == 1:\n",
        "      self.first = None\n",
        "      self.last = None\n",
        "    else:\n",
        "      self.first = self.first.next\n",
        "      temp.next = None\n",
        "    self.length -= 1\n",
        "    return temp\n",
        "    "
      ],
      "metadata": {
        "id": "Y6V8KvBqQYQH"
      },
      "execution_count": 94,
      "outputs": []
    },
    {
      "cell_type": "markdown",
      "source": [
        "## Trees\n",
        ">real dictornary \n",
        ">full tree: every node either points to zero nodes or two nodes \n",
        "> prefect tree\n",
        ">complete: from right to left have node\n",
        ">parents-->childs(siblings)\n",
        "> parent only have one node"
      ],
      "metadata": {
        "id": "Yoq4321n5EHF"
      }
    },
    {
      "cell_type": "markdown",
      "source": [
        "### binary search tree (BST)\n",
        ">  if there is node in the BST tree, when we add one node, compare it first, greater it put left, and less the the node put right \n",
        "> O(log(n))  find a node --> divide and conquer --> lookup() insert() remove() \n",
        "\n",
        ">worst case of BST :--> looks like LL O(n) \n",
        "\n"
      ],
      "metadata": {
        "id": "fHGnwMo9UBfV"
      }
    },
    {
      "cell_type": "markdown",
      "source": [
        "### interview question for LL\n",
        "> we wanna add data to a data structure very quickly, but retrieval speed is not very important\n",
        "from BST and LL\n",
        "> Answer: LL,  append() O(1) "
      ],
      "metadata": {
        "id": "AWKA8kkUd3CI"
      }
    },
    {
      "cell_type": "code",
      "source": [
        "#Node for binary search tree\n",
        "class Node:\n",
        "  def __init__(self,value):\n",
        "    self.value = value\n",
        "    self.right = None\n",
        "    self.left = None \n",
        "\n",
        "class BinarySearchTree:\n",
        "  #create BST with one node\n",
        "  #def __init__(self,value):\n",
        "   # new_node = Node(value)\n",
        "    #self.root = new_node \n",
        " \n",
        " #create BST with Root node with empty value \n",
        "  def __init_(self):\n",
        "    self.root = None\n",
        " \n",
        "# if root == None then root = new_node\n",
        "# temp = self.root\n",
        "# while loop\n",
        " # if new_node == temp return false\n",
        " #if <temp: left else >temp: right \n",
        " # if None insert new_node else move to next  \n",
        "  def insert(self,value):\n",
        "     new_node = Node(value)\n",
        "     if self.root is None:\n",
        "       self.root = new_node\n",
        "       return True\n",
        "     temp = self.root \n",
        "     while (True):\n",
        "       if new_node.value == temp.value:\n",
        "         return False\n",
        "       if new_node.value <temp.value:\n",
        "         if temp.left is None:\n",
        "           temp.left = new_node\n",
        "           return True \n",
        "         temp = temp.left \n",
        "\n",
        "\n",
        "        \n",
        "\n",
        "\n",
        "     "
      ],
      "metadata": {
        "id": "CZHFdyT2UAln"
      },
      "execution_count": 96,
      "outputs": []
    },
    {
      "cell_type": "code",
      "source": [
        "my_tree = BinarySearchTree()\n"
      ],
      "metadata": {
        "id": "nbd_KO3agsiQ"
      },
      "execution_count": 97,
      "outputs": []
    },
    {
      "cell_type": "code",
      "source": [
        "print(my_tree)"
      ],
      "metadata": {
        "colab": {
          "base_uri": "https://localhost:8080/"
        },
        "id": "DsPTDDh_gwDb",
        "outputId": "2fb8a348-d3c5-4ed3-99c2-43b9debde6dd"
      },
      "execution_count": 98,
      "outputs": [
        {
          "output_type": "stream",
          "name": "stdout",
          "text": [
            "<__main__.BinarySearchTree object at 0x7f309cad7ad0>\n"
          ]
        }
      ]
    },
    {
      "cell_type": "code",
      "source": [
        ""
      ],
      "metadata": {
        "id": "fam6EC4ygyL-"
      },
      "execution_count": null,
      "outputs": []
    },
    {
      "cell_type": "markdown",
      "source": [
        "## Hashtable \n",
        "> how dictory stord. --> dictornay--> hash fucntion--> get dictornay & address \n",
        "\n",
        "> hash function: one way &deterministic\n",
        "> address space \n"
      ],
      "metadata": {
        "id": "PqubIp9Hezyw"
      }
    },
    {
      "cell_type": "markdown",
      "source": [
        ""
      ],
      "metadata": {
        "id": "-6k3JASIezv2"
      }
    },
    {
      "cell_type": "markdown",
      "source": [
        "##Graph\n",
        ">Vertex\n",
        ">edge & connection\n",
        ">weighted edge \n",
        "> directional & bidirectional edge\n",
        "\n",
        "> linked list is a form of a graph with the limitation that they can only point to one other \n",
        " \n"
      ],
      "metadata": {
        "id": "MWhdvIvIeztE"
      }
    },
    {
      "cell_type": "markdown",
      "source": [
        "## Sort"
      ],
      "metadata": {
        "id": "5lqjOwiGezqN"
      }
    },
    {
      "cell_type": "markdown",
      "source": [
        "### Bubble sort\n",
        ">first item compare to second item\n",
        ">second item compare to third item \n",
        ">until sort the largest item (5 comparision)\n",
        "\n",
        ">left 5 item to compare \n",
        ">iteration until the sort the largest two item (4 comparision\n",
        "\n",
        ">left 4 item to compare\n"
      ],
      "metadata": {
        "id": "7rSFqOxkeznT"
      }
    },
    {
      "cell_type": "code",
      "source": [
        "def bubble_sort(my_list):\n",
        "  for i in range(len(my_list)-1,0,-1): #range(start, stop, step)\n",
        "     for j in range(i):\n",
        "       if my_list[j] > my_list[j+1]:\n",
        "         temp = my_list[j]\n",
        "         my_list[j]=my_list[j+1]\n",
        "         my_list[j+1] = temp \n",
        "  return my_list\n",
        "  "
      ],
      "metadata": {
        "id": "X-PKwtFqsEyo"
      },
      "execution_count": 100,
      "outputs": []
    },
    {
      "cell_type": "code",
      "source": [
        "bubble_sort([4,32,6,4,7,3,4,6,2,6])"
      ],
      "metadata": {
        "colab": {
          "base_uri": "https://localhost:8080/"
        },
        "id": "dN0YT7hDtelO",
        "outputId": "3a08e9d6-1ee2-47e9-d635-fc153d2b3804"
      },
      "execution_count": 101,
      "outputs": [
        {
          "output_type": "execute_result",
          "data": {
            "text/plain": [
              "[2, 3, 4, 4, 4, 6, 6, 6, 7, 32]"
            ]
          },
          "metadata": {},
          "execution_count": 101
        }
      ]
    },
    {
      "cell_type": "markdown",
      "source": [
        "### Selection sort\n",
        "> compare to bubble sort, we bring in index \n",
        ">  set min_index, and loop the list to find out the min value and save it into min_index \n",
        "> after that swith the min_index with the index 0's value \n",
        "\n",
        "> for item 2 : do the same thing \n",
        "\n"
      ],
      "metadata": {
        "id": "-ALemGGZezkl"
      }
    },
    {
      "cell_type": "code",
      "source": [
        "def selection_sort(my_list):\n",
        "  for i in range(len(my_list)-1):\n",
        "    min_index = i\n",
        "    for j in range(i+1,len(my_list)):\n",
        "      if my_list[j]<my_list[min_index]:\n",
        "        min_index = j \n",
        "    if i != min_index:\n",
        "      temp = my_list[i]\n",
        "      my_list[i] = my_list[min_index]\n",
        "      my_list[min_index] = temp \n",
        "  return my_list\n",
        "\n"
      ],
      "metadata": {
        "id": "Yqjiv_e4vsD1"
      },
      "execution_count": 102,
      "outputs": []
    },
    {
      "cell_type": "code",
      "source": [
        "selection_sort([4,32,6,4,7,3,4,6,2,6])"
      ],
      "metadata": {
        "colab": {
          "base_uri": "https://localhost:8080/"
        },
        "id": "q3MHuAUSytPU",
        "outputId": "b10b0b24-1689-442a-9801-67d3c0fb2a2e"
      },
      "execution_count": 103,
      "outputs": [
        {
          "output_type": "execute_result",
          "data": {
            "text/plain": [
              "[2, 3, 4, 4, 4, 6, 6, 6, 7, 32]"
            ]
          },
          "metadata": {},
          "execution_count": 103
        }
      ]
    },
    {
      "cell_type": "markdown",
      "source": [
        "### Insertion Sort\n",
        "> start from second item and compare to first item, if less than first item switch position\n",
        "\n",
        "> iterate the items: from third item: compare the second item and if less, switch position "
      ],
      "metadata": {
        "id": "7H1pLlJ_ezhn"
      }
    },
    {
      "cell_type": "code",
      "source": [
        "def insertion_sort(my_list):\n",
        "  "
      ],
      "metadata": {
        "id": "FP-6w-GC3jMN"
      },
      "execution_count": null,
      "outputs": []
    },
    {
      "cell_type": "markdown",
      "source": [
        "### Merge Sort\n",
        "> break list in half , and iteration break into each item for single item list. --> take two item become into two item list ---> "
      ],
      "metadata": {
        "id": "hLZL1I76ezew"
      }
    },
    {
      "cell_type": "markdown",
      "source": [
        "### Quick Sort\n"
      ],
      "metadata": {
        "id": "2pvTx7HRezbr"
      }
    },
    {
      "cell_type": "markdown",
      "source": [
        "## Tree Traversal"
      ],
      "metadata": {
        "id": "_Mu8k88zezYy"
      }
    },
    {
      "cell_type": "markdown",
      "source": [
        "## BFS (Breadth First Search)"
      ],
      "metadata": {
        "id": "haHwS7kMezV_"
      }
    },
    {
      "cell_type": "markdown",
      "source": [
        "## DFS (Depth First Search) "
      ],
      "metadata": {
        "id": "eHq0WgowezTB"
      }
    },
    {
      "cell_type": "markdown",
      "source": [
        ""
      ],
      "metadata": {
        "id": "u4uE7dkZezQE"
      }
    },
    {
      "cell_type": "markdown",
      "source": [
        ""
      ],
      "metadata": {
        "id": "cI0BWONLezNS"
      }
    },
    {
      "cell_type": "markdown",
      "source": [
        ""
      ],
      "metadata": {
        "id": "c9K6XLqRezIq"
      }
    },
    {
      "cell_type": "markdown",
      "source": [
        ""
      ],
      "metadata": {
        "id": "QMsJWBtoezF1"
      }
    },
    {
      "cell_type": "markdown",
      "source": [
        ""
      ],
      "metadata": {
        "id": "12IrHpt7ezDE"
      }
    },
    {
      "cell_type": "markdown",
      "source": [
        ""
      ],
      "metadata": {
        "id": "CASXW7kJeyzR"
      }
    },
    {
      "cell_type": "markdown",
      "source": [
        ""
      ],
      "metadata": {
        "id": "0hPxpyIMeyuq"
      }
    },
    {
      "cell_type": "markdown",
      "source": [
        ""
      ],
      "metadata": {
        "id": "WsBQA-z0eyry"
      }
    },
    {
      "cell_type": "markdown",
      "source": [
        ""
      ],
      "metadata": {
        "id": "J31nWdvmeypU"
      }
    },
    {
      "cell_type": "markdown",
      "source": [
        ""
      ],
      "metadata": {
        "id": "p7qNJ1UPeymt"
      }
    },
    {
      "cell_type": "markdown",
      "source": [
        ""
      ],
      "metadata": {
        "id": "HZZ3mWZNeyj_"
      }
    },
    {
      "cell_type": "markdown",
      "source": [
        ""
      ],
      "metadata": {
        "id": "_1eoP3b7eyhB"
      }
    },
    {
      "cell_type": "markdown",
      "source": [
        ""
      ],
      "metadata": {
        "id": "k_kWMnlOeyeG"
      }
    },
    {
      "cell_type": "markdown",
      "source": [
        ""
      ],
      "metadata": {
        "id": "fUbNNnVueyax"
      }
    },
    {
      "cell_type": "markdown",
      "source": [
        ""
      ],
      "metadata": {
        "id": "ibyTjC_LeyWv"
      }
    },
    {
      "cell_type": "markdown",
      "source": [
        ""
      ],
      "metadata": {
        "id": "pb0JxwEReyTr"
      }
    },
    {
      "cell_type": "markdown",
      "source": [
        ""
      ],
      "metadata": {
        "id": "OaA-T5d_eyP5"
      }
    },
    {
      "cell_type": "markdown",
      "source": [
        ""
      ],
      "metadata": {
        "id": "9Orw__sWeyLY"
      }
    },
    {
      "cell_type": "markdown",
      "source": [
        ""
      ],
      "metadata": {
        "id": "FdG7PXy7eyEC"
      }
    },
    {
      "cell_type": "markdown",
      "source": [
        ""
      ],
      "metadata": {
        "id": "rOP3Pjdeex6W"
      }
    },
    {
      "cell_type": "markdown",
      "source": [
        ""
      ],
      "metadata": {
        "id": "lpsh7u7Gexue"
      }
    },
    {
      "cell_type": "markdown",
      "source": [
        ""
      ],
      "metadata": {
        "id": "_xB5VrXqexR5"
      }
    }
  ]
}