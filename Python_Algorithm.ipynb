{
  "nbformat": 4,
  "nbformat_minor": 0,
  "metadata": {
    "colab": {
      "name": "Python_Algorithm.ipynb",
      "provenance": [],
      "collapsed_sections": [],
      "authorship_tag": "ABX9TyO7aEBS0inbjUI0OY9TJfvh",
      "include_colab_link": true
    },
    "kernelspec": {
      "name": "python3",
      "display_name": "Python 3"
    },
    "language_info": {
      "name": "python"
    }
  },
  "cells": [
    {
      "cell_type": "markdown",
      "metadata": {
        "id": "view-in-github",
        "colab_type": "text"
      },
      "source": [
        "<a href=\"https://colab.research.google.com/github/HeHeHuang/Python_Alg_Stc/blob/main/Python_Algorithm.ipynb\" target=\"_parent\"><img src=\"https://colab.research.google.com/assets/colab-badge.svg\" alt=\"Open In Colab\"/></a>"
      ]
    },
    {
      "cell_type": "markdown",
      "source": [
        "## list\n",
        "\n"
      ],
      "metadata": {
        "id": "LrGa19PSAr9n"
      }
    },
    {
      "cell_type": "code",
      "execution_count": null,
      "metadata": {
        "id": "c8qstEe4AROq",
        "colab": {
          "base_uri": "https://localhost:8080/"
        },
        "outputId": "6496bc1e-ab3c-4fd0-8ca9-20156ce98dc3"
      },
      "outputs": [
        {
          "output_type": "execute_result",
          "data": {
            "text/plain": [
              "[1, 2, 3, 4, 5]"
            ]
          },
          "metadata": {},
          "execution_count": 1
        }
      ],
      "source": [
        "[1,2,3,4,5]"
      ]
    },
    {
      "cell_type": "markdown",
      "source": [
        "#### 列表解析式"
      ],
      "metadata": {
        "id": "iEZ7FnEXBivW"
      }
    },
    {
      "cell_type": "code",
      "source": [
        "list = [x for x in range(7)]\n",
        "list "
      ],
      "metadata": {
        "colab": {
          "base_uri": "https://localhost:8080/"
        },
        "id": "skUQ8Da1Bssr",
        "outputId": "c2feb86a-eb35-4633-d8b6-b60de443d04c"
      },
      "execution_count": null,
      "outputs": [
        {
          "output_type": "execute_result",
          "data": {
            "text/plain": [
              "[0, 1, 2, 3, 4, 5, 6]"
            ]
          },
          "metadata": {},
          "execution_count": 3
        }
      ]
    },
    {
      "cell_type": "markdown",
      "source": [
        "## tuple"
      ],
      "metadata": {
        "id": "uwVF8MPeArWy"
      }
    },
    {
      "cell_type": "markdown",
      "source": [
        "## dict\n",
        "\n"
      ],
      "metadata": {
        "id": "Qwa-MH8CA4ME"
      }
    },
    {
      "cell_type": "markdown",
      "source": [
        "## set"
      ],
      "metadata": {
        "id": "sUv6rb50A6b5"
      }
    },
    {
      "cell_type": "markdown",
      "source": [
        "## pointer"
      ],
      "metadata": {
        "id": "p9WLTozcf2A7"
      }
    },
    {
      "cell_type": "markdown",
      "source": [
        "## linked list\n",
        "> list have index, list have contious memory space\n",
        "> linked list dont have index, LL node is serpate in different memory space, have head and tail \n"
      ],
      "metadata": {
        "id": "K0wfyvIHdHP8"
      }
    },
    {
      "cell_type": "code",
      "source": [
        "class LinkedList:\n",
        "  def __init__(self,value):\n",
        "    #create new nod\n",
        "    new_node = Node(value)\n",
        "    self.head = new_node\n",
        "    self.tail = new_node\n",
        "    self.length =1 \n",
        "  def append(self,value):\n",
        "    #create new node\n",
        "    #add Node to end\n",
        "    pass\n",
        "  def prepend(self,value):\n",
        "    #create new node\n",
        "    #add node to begining\n",
        "    pass\n",
        "  def insert(self,index,value):\n",
        "    #create new node\n",
        "    #insert node\n",
        "    pass\n"
      ],
      "metadata": {
        "id": "7jrcR289fusO"
      },
      "execution_count": 4,
      "outputs": []
    },
    {
      "cell_type": "code",
      "source": [
        "class Node:\n",
        "  #create new node\n",
        "  def __init__(self,value):\n",
        "     self.value = value \n",
        "     self.next = None\n",
        "      "
      ],
      "metadata": {
        "id": "ejgwirD0gqH9"
      },
      "execution_count": 5,
      "outputs": []
    },
    {
      "cell_type": "code",
      "source": [
        "myLL = LinkedList(4)\n",
        "myLL"
      ],
      "metadata": {
        "colab": {
          "base_uri": "https://localhost:8080/"
        },
        "id": "XBcT5Lu9h2MC",
        "outputId": "5db25294-c2b1-4c62-b312-540ca3361a85"
      },
      "execution_count": 8,
      "outputs": [
        {
          "output_type": "execute_result",
          "data": {
            "text/plain": [
              "<__main__.LinkedList at 0x7fe9da1c1c90>"
            ]
          },
          "metadata": {},
          "execution_count": 8
        }
      ]
    },
    {
      "cell_type": "code",
      "source": [
        "print(myLL.head.value)"
      ],
      "metadata": {
        "colab": {
          "base_uri": "https://localhost:8080/"
        },
        "id": "8CpPAl_giExZ",
        "outputId": "971f6450-1ed4-45bd-b912-1e6a04a6acc0"
      },
      "execution_count": 9,
      "outputs": [
        {
          "output_type": "stream",
          "name": "stdout",
          "text": [
            "4\n"
          ]
        }
      ]
    },
    {
      "cell_type": "code",
      "source": [
        ""
      ],
      "metadata": {
        "id": "2fCYTCGMiHdS"
      },
      "execution_count": null,
      "outputs": []
    },
    {
      "cell_type": "markdown",
      "source": [
        "###append() last item\n",
        "O(1)\n"
      ],
      "metadata": {
        "id": "ikVGrEfxeJAa"
      }
    },
    {
      "cell_type": "markdown",
      "source": [
        "### remove last item\n",
        "O(n)\n"
      ],
      "metadata": {
        "id": "cO5RSn2lePKp"
      }
    },
    {
      "cell_type": "markdown",
      "source": [
        "### remove item from head \n",
        "O(1)"
      ],
      "metadata": {
        "id": "zTQ9kvtyeeXL"
      }
    },
    {
      "cell_type": "markdown",
      "source": [
        "### add item from head\n"
      ],
      "metadata": {
        "id": "PqubIp9Hezyw"
      }
    },
    {
      "cell_type": "markdown",
      "source": [
        ""
      ],
      "metadata": {
        "id": "-6k3JASIezv2"
      }
    },
    {
      "cell_type": "markdown",
      "source": [
        "### add item item in middle O(n)\n",
        "1. remove item in middel O(n)\n",
        "2. look up item O(n) \n",
        "3. \n"
      ],
      "metadata": {
        "id": "MWhdvIvIeztE"
      }
    },
    {
      "cell_type": "markdown",
      "source": [
        ""
      ],
      "metadata": {
        "id": "5lqjOwiGezqN"
      }
    },
    {
      "cell_type": "markdown",
      "source": [
        ""
      ],
      "metadata": {
        "id": "7rSFqOxkeznT"
      }
    },
    {
      "cell_type": "markdown",
      "source": [
        ""
      ],
      "metadata": {
        "id": "-ALemGGZezkl"
      }
    },
    {
      "cell_type": "markdown",
      "source": [
        ""
      ],
      "metadata": {
        "id": "7H1pLlJ_ezhn"
      }
    },
    {
      "cell_type": "markdown",
      "source": [
        ""
      ],
      "metadata": {
        "id": "hLZL1I76ezew"
      }
    },
    {
      "cell_type": "markdown",
      "source": [
        ""
      ],
      "metadata": {
        "id": "2pvTx7HRezbr"
      }
    },
    {
      "cell_type": "markdown",
      "source": [
        ""
      ],
      "metadata": {
        "id": "_Mu8k88zezYy"
      }
    },
    {
      "cell_type": "markdown",
      "source": [
        ""
      ],
      "metadata": {
        "id": "haHwS7kMezV_"
      }
    },
    {
      "cell_type": "markdown",
      "source": [
        ""
      ],
      "metadata": {
        "id": "eHq0WgowezTB"
      }
    },
    {
      "cell_type": "markdown",
      "source": [
        ""
      ],
      "metadata": {
        "id": "u4uE7dkZezQE"
      }
    },
    {
      "cell_type": "markdown",
      "source": [
        ""
      ],
      "metadata": {
        "id": "cI0BWONLezNS"
      }
    },
    {
      "cell_type": "markdown",
      "source": [
        ""
      ],
      "metadata": {
        "id": "c9K6XLqRezIq"
      }
    },
    {
      "cell_type": "markdown",
      "source": [
        ""
      ],
      "metadata": {
        "id": "QMsJWBtoezF1"
      }
    },
    {
      "cell_type": "markdown",
      "source": [
        ""
      ],
      "metadata": {
        "id": "12IrHpt7ezDE"
      }
    },
    {
      "cell_type": "markdown",
      "source": [
        ""
      ],
      "metadata": {
        "id": "CASXW7kJeyzR"
      }
    },
    {
      "cell_type": "markdown",
      "source": [
        ""
      ],
      "metadata": {
        "id": "0hPxpyIMeyuq"
      }
    },
    {
      "cell_type": "markdown",
      "source": [
        ""
      ],
      "metadata": {
        "id": "WsBQA-z0eyry"
      }
    },
    {
      "cell_type": "markdown",
      "source": [
        ""
      ],
      "metadata": {
        "id": "J31nWdvmeypU"
      }
    },
    {
      "cell_type": "markdown",
      "source": [
        ""
      ],
      "metadata": {
        "id": "p7qNJ1UPeymt"
      }
    },
    {
      "cell_type": "markdown",
      "source": [
        ""
      ],
      "metadata": {
        "id": "HZZ3mWZNeyj_"
      }
    },
    {
      "cell_type": "markdown",
      "source": [
        ""
      ],
      "metadata": {
        "id": "_1eoP3b7eyhB"
      }
    },
    {
      "cell_type": "markdown",
      "source": [
        ""
      ],
      "metadata": {
        "id": "k_kWMnlOeyeG"
      }
    },
    {
      "cell_type": "markdown",
      "source": [
        ""
      ],
      "metadata": {
        "id": "fUbNNnVueyax"
      }
    },
    {
      "cell_type": "markdown",
      "source": [
        ""
      ],
      "metadata": {
        "id": "ibyTjC_LeyWv"
      }
    },
    {
      "cell_type": "markdown",
      "source": [
        ""
      ],
      "metadata": {
        "id": "pb0JxwEReyTr"
      }
    },
    {
      "cell_type": "markdown",
      "source": [
        ""
      ],
      "metadata": {
        "id": "OaA-T5d_eyP5"
      }
    },
    {
      "cell_type": "markdown",
      "source": [
        ""
      ],
      "metadata": {
        "id": "9Orw__sWeyLY"
      }
    },
    {
      "cell_type": "markdown",
      "source": [
        ""
      ],
      "metadata": {
        "id": "FdG7PXy7eyEC"
      }
    },
    {
      "cell_type": "markdown",
      "source": [
        ""
      ],
      "metadata": {
        "id": "rOP3Pjdeex6W"
      }
    },
    {
      "cell_type": "markdown",
      "source": [
        ""
      ],
      "metadata": {
        "id": "lpsh7u7Gexue"
      }
    },
    {
      "cell_type": "markdown",
      "source": [
        ""
      ],
      "metadata": {
        "id": "_xB5VrXqexR5"
      }
    }
  ]
}